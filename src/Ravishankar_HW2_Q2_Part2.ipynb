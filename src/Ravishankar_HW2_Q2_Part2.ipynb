{
 "cells": [
  {
   "cell_type": "code",
   "execution_count": 1,
   "metadata": {},
   "outputs": [
    {
     "name": "stderr",
     "output_type": "stream",
     "text": [
      "Using TensorFlow backend.\n"
     ]
    }
   ],
   "source": [
    "%matplotlib inline\n",
    "import matplotlib.pyplot as plt\n",
    "from keras.layers import Input, Dense, Flatten, Reshape\n",
    "from keras.datasets import mnist\n",
    "from keras.models import Model, Sequential\n",
    "from keras import regularizers, metrics\n",
    "import numpy as np\n",
    "import keras.layers\n",
    "import keras.losses\n",
    "\n",
    "from sklearn.neighbors import KNeighborsClassifier\n",
    "from sklearn.metrics import classification_report\n",
    "import sklearn"
   ]
  },
  {
   "cell_type": "code",
   "execution_count": 2,
   "metadata": {},
   "outputs": [],
   "source": [
    "(xtrain, ytrain), (xtest, ytest) = mnist.load_data()\n",
    "# xtrain=xtrain()\n",
    "maxV = float(xtrain.max())\n",
    "xtrain=xtrain.astype('float32')/maxV\n",
    "xtrain=np.reshape(xtrain, (len(xtrain), np.prod(xtrain.shape[1:])))\n",
    "\n",
    "xtest=xtest.astype('float32')/maxV\n",
    "xtest=np.reshape(xtest, (len(xtest), np.prod(xtest.shape[1:])))\n",
    "# print(xtest[0].shape)"
   ]
  },
  {
   "cell_type": "code",
   "execution_count": 3,
   "metadata": {},
   "outputs": [
    {
     "name": "stdout",
     "output_type": "stream",
     "text": [
      "(1000, 784)\n",
      "(1000,)\n"
     ]
    }
   ],
   "source": [
    "digits=list(set(ytrain[:100]))\n",
    "count=0\n",
    "index=0\n",
    "arr=[]\n",
    "lab=[]\n",
    "for d in digits:\n",
    "    count=0\n",
    "    index=0\n",
    "    while count<100:\n",
    "        if(ytrain[index]==d):\n",
    "            arr.append(xtrain[index])\n",
    "            lab.append(ytrain[index])\n",
    "            count+=1\n",
    "        index+=1\n",
    "arr=np.asarray(arr)\n",
    "lab=np.asarray(lab)\n",
    "print(arr.shape)\n",
    "print(lab.shape)"
   ]
  },
  {
   "cell_type": "code",
   "execution_count": 4,
   "metadata": {},
   "outputs": [],
   "source": [
    "##As we are not reconstructing, I only created an encoder module\n",
    "N=[2, 5, 10]\n",
    "\n",
    "model1=Sequential()\n",
    "model1.add(Dense(N[0], input_dim=arr.shape[1], activation='relu'))\n",
    "\n",
    "model2=Sequential()\n",
    "model2.add(Dense(N[1], input_dim=arr.shape[1], activation='relu'))\n",
    "\n",
    "model3=Sequential()\n",
    "model3.add(Dense(N[2], input_dim=arr.shape[1], activation='relu'))"
   ]
  },
  {
   "cell_type": "code",
   "execution_count": 5,
   "metadata": {},
   "outputs": [],
   "source": [
    "##Encoder in action\n",
    "model1_predict = model1.predict(arr)\n",
    "model2_predict = model2.predict(arr)\n",
    "model3_predict = model3.predict(arr)"
   ]
  },
  {
   "cell_type": "code",
   "execution_count": 6,
   "metadata": {},
   "outputs": [
    {
     "name": "stdout",
     "output_type": "stream",
     "text": [
      "(1000, 2)\n"
     ]
    }
   ],
   "source": [
    "print(model1_predict.shape)"
   ]
  },
  {
   "cell_type": "code",
   "execution_count": 7,
   "metadata": {},
   "outputs": [
    {
     "data": {
      "text/plain": [
       "KNeighborsClassifier(algorithm='auto', leaf_size=30, metric='minkowski',\n",
       "           metric_params=None, n_jobs=None, n_neighbors=50, p=2,\n",
       "           weights='uniform')"
      ]
     },
     "execution_count": 7,
     "metadata": {},
     "output_type": "execute_result"
    }
   ],
   "source": [
    "##KNN classifier for 50 neighbours.\n",
    "\n",
    "k=50\n",
    "knn_1 = KNeighborsClassifier(n_neighbors=k)\n",
    "knn_2 = KNeighborsClassifier(n_neighbors=k)\n",
    "knn_3 = KNeighborsClassifier(n_neighbors=k)\n",
    "\n",
    "knn_1.fit(model1_predict, lab)\n",
    "knn_2.fit(model2_predict, lab)\n",
    "knn_3.fit(model3_predict, lab)"
   ]
  },
  {
   "cell_type": "code",
   "execution_count": 8,
   "metadata": {},
   "outputs": [
    {
     "name": "stdout",
     "output_type": "stream",
     "text": [
      "Accuracy of N:2 ->  22.0 %\n",
      "Accuracy of N:5 ->  36.199999999999996 %\n",
      "Accuracy of N:10 ->  44.2 %\n"
     ]
    }
   ],
   "source": [
    "##Run KNN on all inputs.\n",
    "pred_lab_1=[]\n",
    "pred_lab_2=[]\n",
    "pred_lab_3=[]\n",
    "pred_1_score=0\n",
    "pred_2_score=0\n",
    "pred_3_score=0\n",
    "\n",
    "for i in range(len(model1_predict)):\n",
    "    pred_lab_1.append(knn_1.predict([model1_predict[i]])[0])\n",
    "    pred_lab_2.append(knn_2.predict([model2_predict[i]])[0])\n",
    "    pred_lab_3.append(knn_3.predict([model3_predict[i]])[0])\n",
    "    \n",
    "pred_lab_1=np.asarray(pred_lab_1)\n",
    "pred_lab_2=np.asarray(pred_lab_2)\n",
    "pred_lab_3=np.asarray(pred_lab_3)\n",
    "\n",
    "pred_1_score=knn_1.score(model1_predict, lab)\n",
    "pred_2_score=knn_2.score(model2_predict, lab)\n",
    "pred_3_score=knn_3.score(model3_predict, lab)\n",
    "print(\"Accuracy of N:2 -> \",pred_1_score*100, \"%\")\n",
    "print(\"Accuracy of N:5 -> \",pred_2_score*100, \"%\")\n",
    "print(\"Accuracy of N:10 -> \",pred_3_score*100, \"%\")\n",
    "\n",
    "acc=[1-pred_1_score, 1-pred_2_score, 1-pred_3_score]"
   ]
  },
  {
   "cell_type": "code",
   "execution_count": 9,
   "metadata": {},
   "outputs": [
    {
     "name": "stdout",
     "output_type": "stream",
     "text": [
      "\n",
      "\t\t\tScore -> N = 2\n",
      "\n",
      "              precision    recall  f1-score   support\n",
      "\n",
      "           0       0.42      0.22      0.29       100\n",
      "           1       0.16      0.43      0.23       100\n",
      "           2       0.00      0.00      0.00       100\n",
      "           3       0.19      0.33      0.24       100\n",
      "           4       0.28      0.42      0.33       100\n",
      "           5       0.22      0.04      0.07       100\n",
      "           6       0.09      0.03      0.05       100\n",
      "           7       0.28      0.59      0.38       100\n",
      "           8       0.11      0.05      0.07       100\n",
      "           9       0.26      0.09      0.13       100\n",
      "\n",
      "   micro avg       0.22      0.22      0.22      1000\n",
      "   macro avg       0.20      0.22      0.18      1000\n",
      "weighted avg       0.20      0.22      0.18      1000\n",
      "\n"
     ]
    }
   ],
   "source": [
    "print(\"\\n\\t\\t\\tScore -> N = 2\\n\")\n",
    "print(classification_report(lab, pred_lab_1))"
   ]
  },
  {
   "cell_type": "code",
   "execution_count": 10,
   "metadata": {},
   "outputs": [
    {
     "name": "stdout",
     "output_type": "stream",
     "text": [
      "\n",
      "\t\t\tScore -> N = 5\n",
      "\n",
      "              precision    recall  f1-score   support\n",
      "\n",
      "           0       0.41      0.41      0.41       100\n",
      "           1       0.35      0.48      0.40       100\n",
      "           2       0.56      0.18      0.27       100\n",
      "           3       0.37      0.15      0.21       100\n",
      "           4       0.26      0.23      0.24       100\n",
      "           5       0.19      0.03      0.05       100\n",
      "           6       0.39      0.55      0.46       100\n",
      "           7       0.34      0.52      0.41       100\n",
      "           8       0.50      0.63      0.56       100\n",
      "           9       0.26      0.44      0.33       100\n",
      "\n",
      "   micro avg       0.36      0.36      0.36      1000\n",
      "   macro avg       0.36      0.36      0.34      1000\n",
      "weighted avg       0.36      0.36      0.34      1000\n",
      "\n"
     ]
    }
   ],
   "source": [
    "print(\"\\n\\t\\t\\tScore -> N = 5\\n\")\n",
    "print(classification_report(lab, pred_lab_2))"
   ]
  },
  {
   "cell_type": "code",
   "execution_count": 11,
   "metadata": {},
   "outputs": [
    {
     "name": "stdout",
     "output_type": "stream",
     "text": [
      "\n",
      "\t\t\tScore -> N = 10\n",
      "\n",
      "              precision    recall  f1-score   support\n",
      "\n",
      "           0       0.45      0.39      0.42       100\n",
      "           1       0.35      0.94      0.51       100\n",
      "           2       0.62      0.15      0.24       100\n",
      "           3       0.52      0.29      0.37       100\n",
      "           4       0.59      0.55      0.57       100\n",
      "           5       0.44      0.31      0.36       100\n",
      "           6       0.40      0.66      0.50       100\n",
      "           7       0.54      0.53      0.54       100\n",
      "           8       0.43      0.20      0.27       100\n",
      "           9       0.42      0.40      0.41       100\n",
      "\n",
      "   micro avg       0.44      0.44      0.44      1000\n",
      "   macro avg       0.48      0.44      0.42      1000\n",
      "weighted avg       0.48      0.44      0.42      1000\n",
      "\n"
     ]
    }
   ],
   "source": [
    "print(\"\\n\\t\\t\\tScore -> N = 10\\n\")\n",
    "print(classification_report(lab, pred_lab_3))"
   ]
  },
  {
   "cell_type": "code",
   "execution_count": 17,
   "metadata": {},
   "outputs": [
    {
     "data": {
      "image/png": "[encoded data removed]",
      "text/plain": [
       "<Figure size 432x288 with 1 Axes>"
      ]
     },
     "metadata": {
      "needs_background": "light"
     },
     "output_type": "display_data"
    }
   ],
   "source": [
    "plt.figure()\n",
    "plt.plot(N, acc)\n",
    "plt.scatter(N, acc, c='red')\n",
    "plt.title('Mis Classification Error Plot - Autoencoder Model')\n",
    "plt.ylabel('error')\n",
    "plt.xlabel('N')\n",
    "plt.legend(['K-NN'], loc='upper right')\n",
    "plt.show()"
   ]
  },
  {
   "cell_type": "code",
   "execution_count": 20,
   "metadata": {},
   "outputs": [
    {
     "name": "stdout",
     "output_type": "stream",
     "text": [
      "[0.78, 0.638, 0.558]\n"
     ]
    }
   ],
   "source": [
    "print(acc)\n",
    "\n",
    "#Borrowing metrics from PCA\n",
    "pca_acc=[0.502, 0.257, 0.18600000000000005]"
   ]
  },
  {
   "cell_type": "code",
   "execution_count": 22,
   "metadata": {},
   "outputs": [
    {
     "data": {
      "image/png": "[encoded data removed]",
      "text/plain": [
       "<Figure size 432x288 with 1 Axes>"
      ]
     },
     "metadata": {
      "needs_background": "light"
     },
     "output_type": "display_data"
    }
   ],
   "source": [
    "plt.figure()\n",
    "plt.plot(N, acc)\n",
    "plt.plot(N, pca_acc)\n",
    "plt.scatter(N, acc, c='red')\n",
    "plt.scatter(N, pca_acc, c='blue')\n",
    "plt.title('Mis Classification Error Plot')\n",
    "plt.ylabel('error')\n",
    "plt.xlabel('N')\n",
    "plt.legend(['AutoEncoder', 'PCA'], loc='upper right')\n",
    "plt.show()"
   ]
  },
  {
   "cell_type": "code",
   "execution_count": null,
   "metadata": {},
   "outputs": [],
   "source": []
  }
 ],
 "metadata": {
  "kernelspec": {
   "display_name": "Python 3",
   "language": "python",
   "name": "python3"
  },
  "language_info": {
   "codemirror_mode": {
    "name": "ipython",
    "version": 3
   },
   "file_extension": ".py",
   "mimetype": "text/x-python",
   "name": "python",
   "nbconvert_exporter": "python",
   "pygments_lexer": "ipython3",
   "version": "3.6.7"
  }
 },
 "nbformat": 4,
 "nbformat_minor": 2
}
