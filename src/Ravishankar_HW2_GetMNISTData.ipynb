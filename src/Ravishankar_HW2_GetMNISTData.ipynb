{
 "cells": [
  {
   "cell_type": "code",
   "execution_count": 1,
   "metadata": {},
   "outputs": [],
   "source": [
    "from __future__ import absolute_import, division, print_function\n",
    "%matplotlib inline\n",
    "import tensorflow as tf\n",
    "from tensorflow.keras import layers\n",
    "import os\n",
    "from tensorflow import keras\n",
    "from tensorflow.examples.tutorials.mnist import input_data\n",
    "import matplotlib.pyplot as plt\n",
    "import matplotlib\n",
    "import cv2\n",
    "import shutil"
   ]
  },
  {
   "cell_type": "code",
   "execution_count": 2,
   "metadata": {},
   "outputs": [
    {
     "name": "stdout",
     "output_type": "stream",
     "text": [
      "[5 0 4 1 9 2 1 3 1 4 3 5 3 6 1 7 2 8 6 9 4 0]\n"
     ]
    }
   ],
   "source": [
    "# x = mnist.train.images[0:1]\n",
    "# y = mnist.train.labels[0:1]\n",
    "(train_images, train_labels), (test_images, test_labels) = tf.keras.datasets.mnist.load_data()\n",
    "# train_labels = train_labels[:10]\n",
    "# train_images = train_images[:10]\n",
    "print(train_labels[:22])"
   ]
  },
  {
   "cell_type": "code",
   "execution_count": 3,
   "metadata": {},
   "outputs": [],
   "source": [
    "# # matplotlib.image.imsave('digit.png'+train_images[21])\n",
    "# cv2.imwrite('/Users/ashwin/GeorgeMasonUniversity/Sem4/CS795/HomeWork/hw2/d.png', train_images[21])\n",
    "# # plt.imshow(train_images[6])\n",
    "# # print(train_labels)"
   ]
  },
  {
   "cell_type": "code",
   "execution_count": 5,
   "metadata": {},
   "outputs": [],
   "source": [
    "basePath='/Users/ashwin/GeorgeMasonUniversity/Sem4/CS795/HomeWork/hw2/MNISTDataset'\n",
    "digits=list(set(train_labels[:100]))\n",
    "count=0\n",
    "index=0\n",
    "arr=[]\n",
    "for d in digits:\n",
    "    digitPath = os.path.join(basePath, str(d))\n",
    "    if(os.path.exists(digitPath)):\n",
    "        shutil.rmtree(digitPath)\n",
    "    os.mkdir(digitPath)\n",
    "    count=0\n",
    "    index=0\n",
    "    while count<100:\n",
    "        if(train_labels[index]==d):\n",
    "            cv2.imwrite(os.path.join(digitPath, \"{:0>3d}\".format(count+1)+'.png'), train_images[index])\n",
    "            count+=1\n",
    "        index+=1\n",
    "      \n",
    "#     break"
   ]
  },
  {
   "cell_type": "code",
   "execution_count": 95,
   "metadata": {},
   "outputs": [
    {
     "name": "stdout",
     "output_type": "stream",
     "text": [
      "0\n"
     ]
    }
   ],
   "source": []
  },
  {
   "cell_type": "code",
   "execution_count": null,
   "metadata": {},
   "outputs": [],
   "source": []
  }
 ],
 "metadata": {
  "kernelspec": {
   "display_name": "Python 3",
   "language": "python",
   "name": "python3"
  },
  "language_info": {
   "codemirror_mode": {
    "name": "ipython",
    "version": 3
   },
   "file_extension": ".py",
   "mimetype": "text/x-python",
   "name": "python",
   "nbconvert_exporter": "python",
   "pygments_lexer": "ipython3",
   "version": "3.6.7"
  }
 },
 "nbformat": 4,
 "nbformat_minor": 2
}
