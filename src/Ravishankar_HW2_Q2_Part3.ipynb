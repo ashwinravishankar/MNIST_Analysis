{
 "cells": [
  {
   "cell_type": "code",
   "execution_count": 1,
   "metadata": {},
   "outputs": [
    {
     "name": "stderr",
     "output_type": "stream",
     "text": [
      "Using TensorFlow backend.\n"
     ]
    }
   ],
   "source": [
    "%matplotlib inline\n",
    "import matplotlib.pyplot as plt\n",
    "from keras.layers import Input, Dense, Flatten, Reshape\n",
    "from keras.datasets import mnist\n",
    "from keras.models import Model, Sequential\n",
    "from keras import regularizers, metrics\n",
    "import numpy as np\n",
    "import keras.layers\n",
    "import keras.losses\n",
    "\n",
    "from sklearn.neighbors import KNeighborsClassifier\n",
    "from sklearn.metrics import classification_report\n",
    "import sklearn\n",
    "from sklearn.decomposition import PCA"
   ]
  },
  {
   "cell_type": "code",
   "execution_count": 2,
   "metadata": {},
   "outputs": [],
   "source": [
    "(xtrain, ytrain), (xtest, ytest) = mnist.load_data()\n",
    "# xtrain=xtrain()\n",
    "maxV = float(xtrain.max())\n",
    "xtrain=xtrain.astype('float32')/maxV\n",
    "xtrain=np.reshape(xtrain, (len(xtrain), np.prod(xtrain.shape[1:])))\n",
    "\n",
    "xtest=xtest.astype('float32')/maxV\n",
    "xtest=np.reshape(xtest, (len(xtest), np.prod(xtest.shape[1:])))\n",
    "# print(xtest[0].shape)"
   ]
  },
  {
   "cell_type": "code",
   "execution_count": 3,
   "metadata": {},
   "outputs": [
    {
     "name": "stdout",
     "output_type": "stream",
     "text": [
      "(1000, 784)\n",
      "(1000,)\n"
     ]
    }
   ],
   "source": [
    "digits=list(set(ytrain[:100]))\n",
    "count=0\n",
    "index=0\n",
    "arr=[]\n",
    "lab=[]\n",
    "for d in digits:\n",
    "    count=0\n",
    "    index=0\n",
    "    while count<100:\n",
    "        if(ytrain[index]==d):\n",
    "            arr.append(xtrain[index])\n",
    "            lab.append(ytrain[index])\n",
    "            count+=1\n",
    "        index+=1\n",
    "arr=np.asarray(arr)\n",
    "lab=np.asarray(lab)\n",
    "print(arr.shape)\n",
    "print(lab.shape)"
   ]
  },
  {
   "cell_type": "code",
   "execution_count": 4,
   "metadata": {},
   "outputs": [],
   "source": [
    "##Introducing PCA\n",
    "\n",
    "N=[2, 5, 10]\n",
    "\n",
    "pca_1 = PCA(n_components=N[0])\n",
    "pca_2 = PCA(n_components=N[1])\n",
    "pca_3 = PCA(n_components=N[2])"
   ]
  },
  {
   "cell_type": "code",
   "execution_count": 5,
   "metadata": {},
   "outputs": [],
   "source": [
    "t_1 = pca_1.fit_transform(arr)\n",
    "t_2 = pca_2.fit_transform(arr)\n",
    "t_3 = pca_3.fit_transform(arr)"
   ]
  },
  {
   "cell_type": "code",
   "execution_count": 6,
   "metadata": {},
   "outputs": [],
   "source": [
    "# print(t_1[0])"
   ]
  },
  {
   "cell_type": "code",
   "execution_count": 7,
   "metadata": {},
   "outputs": [
    {
     "data": {
      "text/plain": [
       "KNeighborsClassifier(algorithm='auto', leaf_size=30, metric='minkowski',\n",
       "           metric_params=None, n_jobs=None, n_neighbors=50, p=2,\n",
       "           weights='uniform')"
      ]
     },
     "execution_count": 7,
     "metadata": {},
     "output_type": "execute_result"
    }
   ],
   "source": [
    "k=50\n",
    "knn_1 = KNeighborsClassifier(n_neighbors=k)\n",
    "knn_2 = KNeighborsClassifier(n_neighbors=k)\n",
    "knn_3 = KNeighborsClassifier(n_neighbors=k)\n",
    "\n",
    "knn_1.fit(t_1, lab)\n",
    "knn_2.fit(t_2, lab)\n",
    "knn_3.fit(t_3, lab)"
   ]
  },
  {
   "cell_type": "code",
   "execution_count": 8,
   "metadata": {},
   "outputs": [
    {
     "name": "stdout",
     "output_type": "stream",
     "text": [
      "Accuracy of N:2 ->  49.8 %\n",
      "Accuracy of N:5 ->  74.3 %\n",
      "Accuracy of N:10 ->  81.39999999999999 %\n"
     ]
    }
   ],
   "source": [
    "pred_lab_1=[]\n",
    "pred_lab_2=[]\n",
    "pred_lab_3=[]\n",
    "pred_1_score=0\n",
    "pred_2_score=0\n",
    "pred_3_score=0\n",
    "for i in range(len(t_1)):\n",
    "    pred_lab_1.append(knn_1.predict([t_1[i]])[0])\n",
    "    pred_lab_2.append(knn_2.predict([t_2[i]])[0])\n",
    "    pred_lab_3.append(knn_3.predict([t_3[i]])[0])\n",
    "    \n",
    "pred_lab_1=np.asarray(pred_lab_1)\n",
    "pred_lab_2=np.asarray(pred_lab_2)\n",
    "pred_lab_3=np.asarray(pred_lab_3)\n",
    "\n",
    "pred_1_score=knn_1.score(t_1, lab)\n",
    "pred_2_score=knn_2.score(t_2, lab)\n",
    "pred_3_score=knn_3.score(t_3, lab)\n",
    "print(\"Accuracy of N:2 -> \",pred_1_score*100, \"%\")\n",
    "print(\"Accuracy of N:5 -> \",pred_2_score*100, \"%\")\n",
    "print(\"Accuracy of N:10 -> \",pred_3_score*100, \"%\")\n",
    "\n",
    "acc=[1-pred_1_score, 1-pred_2_score, 1-pred_3_score]"
   ]
  },
  {
   "cell_type": "code",
   "execution_count": 9,
   "metadata": {},
   "outputs": [
    {
     "name": "stdout",
     "output_type": "stream",
     "text": [
      "\n",
      "\t\t\tScore -> N = 2\n",
      "\n",
      "              precision    recall  f1-score   support\n",
      "\n",
      "           0       0.71      0.79      0.75       100\n",
      "           1       0.70      0.93      0.80       100\n",
      "           2       0.34      0.18      0.24       100\n",
      "           3       0.60      0.41      0.49       100\n",
      "           4       0.41      0.55      0.47       100\n",
      "           5       0.33      0.38      0.35       100\n",
      "           6       0.49      0.52      0.50       100\n",
      "           7       0.50      0.34      0.40       100\n",
      "           8       0.45      0.54      0.49       100\n",
      "           9       0.36      0.34      0.35       100\n",
      "\n",
      "   micro avg       0.50      0.50      0.50      1000\n",
      "   macro avg       0.49      0.50      0.49      1000\n",
      "weighted avg       0.49      0.50      0.49      1000\n",
      "\n"
     ]
    }
   ],
   "source": [
    "print(\"\\n\\t\\t\\tScore -> N = 2\\n\")\n",
    "print(classification_report(lab, pred_lab_1))"
   ]
  },
  {
   "cell_type": "code",
   "execution_count": 10,
   "metadata": {},
   "outputs": [
    {
     "name": "stdout",
     "output_type": "stream",
     "text": [
      "\n",
      "\t\t\tScore -> N = 5\n",
      "\n",
      "              precision    recall  f1-score   support\n",
      "\n",
      "           0       0.85      0.86      0.86       100\n",
      "           1       0.71      0.96      0.81       100\n",
      "           2       0.83      0.73      0.78       100\n",
      "           3       0.70      0.71      0.71       100\n",
      "           4       0.67      0.72      0.69       100\n",
      "           5       0.67      0.61      0.64       100\n",
      "           6       0.86      0.79      0.82       100\n",
      "           7       0.78      0.74      0.76       100\n",
      "           8       0.70      0.69      0.69       100\n",
      "           9       0.70      0.62      0.66       100\n",
      "\n",
      "   micro avg       0.74      0.74      0.74      1000\n",
      "   macro avg       0.75      0.74      0.74      1000\n",
      "weighted avg       0.75      0.74      0.74      1000\n",
      "\n"
     ]
    }
   ],
   "source": [
    "print(\"\\n\\t\\t\\tScore -> N = 5\\n\")\n",
    "print(classification_report(lab, pred_lab_2))"
   ]
  },
  {
   "cell_type": "code",
   "execution_count": 11,
   "metadata": {},
   "outputs": [
    {
     "name": "stdout",
     "output_type": "stream",
     "text": [
      "\n",
      "\t\t\tScore -> N = 10\n",
      "\n",
      "              precision    recall  f1-score   support\n",
      "\n",
      "           0       0.93      0.88      0.90       100\n",
      "           1       0.71      0.97      0.82       100\n",
      "           2       0.97      0.69      0.81       100\n",
      "           3       0.75      0.75      0.75       100\n",
      "           4       0.81      0.83      0.82       100\n",
      "           5       0.72      0.71      0.71       100\n",
      "           6       0.88      0.87      0.87       100\n",
      "           7       0.86      0.84      0.85       100\n",
      "           8       0.85      0.84      0.84       100\n",
      "           9       0.76      0.76      0.76       100\n",
      "\n",
      "   micro avg       0.81      0.81      0.81      1000\n",
      "   macro avg       0.82      0.81      0.81      1000\n",
      "weighted avg       0.82      0.81      0.81      1000\n",
      "\n"
     ]
    }
   ],
   "source": [
    "print(\"\\n\\t\\t\\tScore -> N = 10\\n\")\n",
    "print(classification_report(lab, pred_lab_3))"
   ]
  },
  {
   "cell_type": "code",
   "execution_count": 13,
   "metadata": {},
   "outputs": [
    {
     "data": {
      "image/png": "[encoded data removed]",
      "text/plain": [
       "<Figure size 432x288 with 1 Axes>"
      ]
     },
     "metadata": {
      "needs_background": "light"
     },
     "output_type": "display_data"
    }
   ],
   "source": [
    "plt.figure()\n",
    "plt.plot(N, acc)\n",
    "plt.scatter(N, acc, c='red')\n",
    "plt.title('Mis Classification Error Plot - PCA Model')\n",
    "plt.ylabel('error')\n",
    "plt.xlabel('N')\n",
    "plt.legend(['K-NN'], loc='upper right')\n",
    "plt.show()"
   ]
  },
  {
   "cell_type": "code",
   "execution_count": 16,
   "metadata": {},
   "outputs": [
    {
     "name": "stdout",
     "output_type": "stream",
     "text": [
      "[0.502, 0.257, 0.18600000000000005]\n"
     ]
    }
   ],
   "source": [
    "print(acc)\n",
    "\n",
    "#Borrowing metrics from PCA\n",
    "encoder_acc=[0.78, 0.638, 0.558]"
   ]
  },
  {
   "cell_type": "code",
   "execution_count": 20,
   "metadata": {},
   "outputs": [
    {
     "data": {
      "image/png": "[encoded data removed]",
      "text/plain": [
       "<Figure size 432x288 with 1 Axes>"
      ]
     },
     "metadata": {
      "needs_background": "light"
     },
     "output_type": "display_data"
    }
   ],
   "source": [
    "plt.figure()\n",
    "plt.plot(N, encoder_acc)\n",
    "plt.plot(N, acc)\n",
    "plt.scatter(N, encoder_acc, c='red')\n",
    "plt.scatter(N, acc, c='blue')\n",
    "plt.title('Mis Classification Error Plot')\n",
    "plt.ylabel('error')\n",
    "plt.xlabel('N')\n",
    "plt.legend(['AutoEncoder', 'PCA'], loc='upper right')\n",
    "plt.show()"
   ]
  },
  {
   "cell_type": "code",
   "execution_count": null,
   "metadata": {},
   "outputs": [],
   "source": []
  }
 ],
 "metadata": {
  "kernelspec": {
   "display_name": "Python 3",
   "language": "python",
   "name": "python3"
  },
  "language_info": {
   "codemirror_mode": {
    "name": "ipython",
    "version": 3
   },
   "file_extension": ".py",
   "mimetype": "text/x-python",
   "name": "python",
   "nbconvert_exporter": "python",
   "pygments_lexer": "ipython3",
   "version": "3.6.7"
  }
 },
 "nbformat": 4,
 "nbformat_minor": 2
}
